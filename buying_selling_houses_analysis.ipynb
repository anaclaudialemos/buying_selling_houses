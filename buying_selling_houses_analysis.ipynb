{
 "cells": [
  {
   "cell_type": "markdown",
   "id": "fd4afddb",
   "metadata": {},
   "source": [
    "# 0.0 Imports"
   ]
  },
  {
   "cell_type": "code",
   "execution_count": 1,
   "id": "d3e87544",
   "metadata": {},
   "outputs": [],
   "source": [
    "import numpy              as np\n",
    "import pandas             as pd\n",
    "import seaborn            as sns\n",
    "import plotly.express     as px\n",
    "import matplotlib.pyplot  as plt\n",
    "\n",
    "import folium\n",
    "import geopandas\n",
    "\n",
    "from datetime             import datetime\n",
    "from streamlit_folium     import folium_static\n",
    "from folium.plugins       import MarkerCluster\n",
    "from IPython.core.display import HTML\n",
    "from IPython.display      import Image"
   ]
  },
  {
   "cell_type": "markdown",
   "id": "bf56dce3",
   "metadata": {},
   "source": [
    "## 0.1 Helper Functions"
   ]
  },
  {
   "cell_type": "code",
   "execution_count": 2,
   "id": "0e242317",
   "metadata": {},
   "outputs": [],
   "source": [
    "def personal_settings():\n",
    "    \n",
    "    # plotly settings\n",
    "    plt.style.use( 'bmh' )\n",
    "    plt.rcParams['figure.figsize'] = [20, 10]\n",
    "    plt.rcParams['font.size'] = 8\n",
    "    \n",
    "    # notebook settings\n",
    "    display(HTML('<style>.container{width:98% !important;}</style>'))\n",
    "    np.set_printoptions(suppress=True)\n",
    "    pd.set_option('display.float_format', '{:.2f}'.format)\n",
    "\n",
    "    # seaborn settings\n",
    "    sns.set(rc={'figure.figsize':(22,10)})\n",
    "    sns.set_theme(style = 'darkgrid', font_scale = 1.2)"
   ]
  },
  {
   "cell_type": "code",
   "execution_count": 3,
   "id": "b9c4c5d1",
   "metadata": {},
   "outputs": [
    {
     "data": {
      "text/html": [
       "<style>.container{width:98% !important;}</style>"
      ],
      "text/plain": [
       "<IPython.core.display.HTML object>"
      ]
     },
     "metadata": {},
     "output_type": "display_data"
    }
   ],
   "source": [
    "personal_settings();"
   ]
  },
  {
   "cell_type": "markdown",
   "id": "f94731c9",
   "metadata": {},
   "source": [
    "## 0.2 Loading Data"
   ]
  },
  {
   "cell_type": "code",
   "execution_count": 4,
   "id": "df0f6529",
   "metadata": {},
   "outputs": [],
   "source": [
    "df_raw = pd.read_csv('datasets/kc_house_data.csv')"
   ]
  },
  {
   "cell_type": "markdown",
   "id": "e4deee10",
   "metadata": {},
   "source": [
    "# 1.0 Data Description"
   ]
  },
  {
   "cell_type": "code",
   "execution_count": 5,
   "id": "fa5156e6",
   "metadata": {},
   "outputs": [
    {
     "data": {
      "text/html": [
       "<div>\n",
       "<style scoped>\n",
       "    .dataframe tbody tr th:only-of-type {\n",
       "        vertical-align: middle;\n",
       "    }\n",
       "\n",
       "    .dataframe tbody tr th {\n",
       "        vertical-align: top;\n",
       "    }\n",
       "\n",
       "    .dataframe thead th {\n",
       "        text-align: right;\n",
       "    }\n",
       "</style>\n",
       "<table border=\"1\" class=\"dataframe\">\n",
       "  <thead>\n",
       "    <tr style=\"text-align: right;\">\n",
       "      <th></th>\n",
       "      <th>id</th>\n",
       "      <th>date</th>\n",
       "      <th>price</th>\n",
       "      <th>bedrooms</th>\n",
       "      <th>bathrooms</th>\n",
       "      <th>sqft_living</th>\n",
       "      <th>sqft_lot</th>\n",
       "      <th>floors</th>\n",
       "      <th>waterfront</th>\n",
       "      <th>view</th>\n",
       "      <th>...</th>\n",
       "      <th>grade</th>\n",
       "      <th>sqft_above</th>\n",
       "      <th>sqft_basement</th>\n",
       "      <th>yr_built</th>\n",
       "      <th>yr_renovated</th>\n",
       "      <th>zipcode</th>\n",
       "      <th>lat</th>\n",
       "      <th>long</th>\n",
       "      <th>sqft_living15</th>\n",
       "      <th>sqft_lot15</th>\n",
       "    </tr>\n",
       "  </thead>\n",
       "  <tbody>\n",
       "    <tr>\n",
       "      <th>0</th>\n",
       "      <td>7129300520</td>\n",
       "      <td>20141013T000000</td>\n",
       "      <td>221900.00</td>\n",
       "      <td>3</td>\n",
       "      <td>1.00</td>\n",
       "      <td>1180</td>\n",
       "      <td>5650</td>\n",
       "      <td>1.00</td>\n",
       "      <td>0</td>\n",
       "      <td>0</td>\n",
       "      <td>...</td>\n",
       "      <td>7</td>\n",
       "      <td>1180</td>\n",
       "      <td>0</td>\n",
       "      <td>1955</td>\n",
       "      <td>0</td>\n",
       "      <td>98178</td>\n",
       "      <td>47.51</td>\n",
       "      <td>-122.26</td>\n",
       "      <td>1340</td>\n",
       "      <td>5650</td>\n",
       "    </tr>\n",
       "    <tr>\n",
       "      <th>1</th>\n",
       "      <td>6414100192</td>\n",
       "      <td>20141209T000000</td>\n",
       "      <td>538000.00</td>\n",
       "      <td>3</td>\n",
       "      <td>2.25</td>\n",
       "      <td>2570</td>\n",
       "      <td>7242</td>\n",
       "      <td>2.00</td>\n",
       "      <td>0</td>\n",
       "      <td>0</td>\n",
       "      <td>...</td>\n",
       "      <td>7</td>\n",
       "      <td>2170</td>\n",
       "      <td>400</td>\n",
       "      <td>1951</td>\n",
       "      <td>1991</td>\n",
       "      <td>98125</td>\n",
       "      <td>47.72</td>\n",
       "      <td>-122.32</td>\n",
       "      <td>1690</td>\n",
       "      <td>7639</td>\n",
       "    </tr>\n",
       "    <tr>\n",
       "      <th>2</th>\n",
       "      <td>5631500400</td>\n",
       "      <td>20150225T000000</td>\n",
       "      <td>180000.00</td>\n",
       "      <td>2</td>\n",
       "      <td>1.00</td>\n",
       "      <td>770</td>\n",
       "      <td>10000</td>\n",
       "      <td>1.00</td>\n",
       "      <td>0</td>\n",
       "      <td>0</td>\n",
       "      <td>...</td>\n",
       "      <td>6</td>\n",
       "      <td>770</td>\n",
       "      <td>0</td>\n",
       "      <td>1933</td>\n",
       "      <td>0</td>\n",
       "      <td>98028</td>\n",
       "      <td>47.74</td>\n",
       "      <td>-122.23</td>\n",
       "      <td>2720</td>\n",
       "      <td>8062</td>\n",
       "    </tr>\n",
       "    <tr>\n",
       "      <th>3</th>\n",
       "      <td>2487200875</td>\n",
       "      <td>20141209T000000</td>\n",
       "      <td>604000.00</td>\n",
       "      <td>4</td>\n",
       "      <td>3.00</td>\n",
       "      <td>1960</td>\n",
       "      <td>5000</td>\n",
       "      <td>1.00</td>\n",
       "      <td>0</td>\n",
       "      <td>0</td>\n",
       "      <td>...</td>\n",
       "      <td>7</td>\n",
       "      <td>1050</td>\n",
       "      <td>910</td>\n",
       "      <td>1965</td>\n",
       "      <td>0</td>\n",
       "      <td>98136</td>\n",
       "      <td>47.52</td>\n",
       "      <td>-122.39</td>\n",
       "      <td>1360</td>\n",
       "      <td>5000</td>\n",
       "    </tr>\n",
       "    <tr>\n",
       "      <th>4</th>\n",
       "      <td>1954400510</td>\n",
       "      <td>20150218T000000</td>\n",
       "      <td>510000.00</td>\n",
       "      <td>3</td>\n",
       "      <td>2.00</td>\n",
       "      <td>1680</td>\n",
       "      <td>8080</td>\n",
       "      <td>1.00</td>\n",
       "      <td>0</td>\n",
       "      <td>0</td>\n",
       "      <td>...</td>\n",
       "      <td>8</td>\n",
       "      <td>1680</td>\n",
       "      <td>0</td>\n",
       "      <td>1987</td>\n",
       "      <td>0</td>\n",
       "      <td>98074</td>\n",
       "      <td>47.62</td>\n",
       "      <td>-122.05</td>\n",
       "      <td>1800</td>\n",
       "      <td>7503</td>\n",
       "    </tr>\n",
       "  </tbody>\n",
       "</table>\n",
       "<p>5 rows × 21 columns</p>\n",
       "</div>"
      ],
      "text/plain": [
       "           id             date     price  bedrooms  bathrooms  sqft_living  \\\n",
       "0  7129300520  20141013T000000 221900.00         3       1.00         1180   \n",
       "1  6414100192  20141209T000000 538000.00         3       2.25         2570   \n",
       "2  5631500400  20150225T000000 180000.00         2       1.00          770   \n",
       "3  2487200875  20141209T000000 604000.00         4       3.00         1960   \n",
       "4  1954400510  20150218T000000 510000.00         3       2.00         1680   \n",
       "\n",
       "   sqft_lot  floors  waterfront  view  ...  grade  sqft_above  sqft_basement  \\\n",
       "0      5650    1.00           0     0  ...      7        1180              0   \n",
       "1      7242    2.00           0     0  ...      7        2170            400   \n",
       "2     10000    1.00           0     0  ...      6         770              0   \n",
       "3      5000    1.00           0     0  ...      7        1050            910   \n",
       "4      8080    1.00           0     0  ...      8        1680              0   \n",
       "\n",
       "   yr_built  yr_renovated  zipcode   lat    long  sqft_living15  sqft_lot15  \n",
       "0      1955             0    98178 47.51 -122.26           1340        5650  \n",
       "1      1951          1991    98125 47.72 -122.32           1690        7639  \n",
       "2      1933             0    98028 47.74 -122.23           2720        8062  \n",
       "3      1965             0    98136 47.52 -122.39           1360        5000  \n",
       "4      1987             0    98074 47.62 -122.05           1800        7503  \n",
       "\n",
       "[5 rows x 21 columns]"
      ]
     },
     "execution_count": 5,
     "metadata": {},
     "output_type": "execute_result"
    }
   ],
   "source": [
    "df1 = df_raw.copy()\n",
    "df1.head()"
   ]
  },
  {
   "cell_type": "markdown",
   "id": "7ad9cd9c",
   "metadata": {},
   "source": [
    "## 1.1 Rename Columns"
   ]
  },
  {
   "cell_type": "code",
   "execution_count": 6,
   "id": "927e16df",
   "metadata": {},
   "outputs": [
    {
     "name": "stdout",
     "output_type": "stream",
     "text": [
      "Index(['id', 'date', 'price', 'bedrooms', 'bathrooms', 'sqft_living',\n",
      "       'sqft_lot', 'floors', 'waterfront', 'view', 'condition', 'grade',\n",
      "       'sqft_above', 'sqft_basement', 'yr_built', 'yr_renovated', 'zipcode',\n",
      "       'lat', 'long', 'sqft_living15', 'sqft_lot15'],\n",
      "      dtype='object')\n"
     ]
    },
    {
     "data": {
      "text/plain": [
       "Index(['id', 'date', 'buying_price', 'bedrooms', 'bathrooms', 'sqft_living',\n",
       "       'sqft_lot', 'floors', 'waterfront', 'view', 'condition', 'grade',\n",
       "       'sqft_above', 'sqft_basement', 'yr_built', 'yr_renovated', 'zipcode',\n",
       "       'lat', 'long', 'sqft_living15', 'sqft_lot15'],\n",
       "      dtype='object')"
      ]
     },
     "execution_count": 6,
     "metadata": {},
     "output_type": "execute_result"
    }
   ],
   "source": [
    "print(df1.columns)\n",
    "\n",
    "df1 = df1.rename(columns={'price': 'buying_price'})\n",
    "\n",
    "df1.columns"
   ]
  },
  {
   "cell_type": "markdown",
   "id": "2189c3c4",
   "metadata": {},
   "source": [
    "## 1.2 Data Dimensions"
   ]
  },
  {
   "cell_type": "code",
   "execution_count": 7,
   "id": "d52e3bca",
   "metadata": {},
   "outputs": [
    {
     "name": "stdout",
     "output_type": "stream",
     "text": [
      "21613 rows\n",
      "21 columns\n"
     ]
    }
   ],
   "source": [
    "print(df1.shape[0], 'rows')\n",
    "print(df1.shape[1], 'columns')"
   ]
  },
  {
   "cell_type": "markdown",
   "id": "958c05e2",
   "metadata": {},
   "source": [
    "## 1.3 Data Types"
   ]
  },
  {
   "cell_type": "code",
   "execution_count": 8,
   "id": "c76bff45",
   "metadata": {},
   "outputs": [
    {
     "data": {
      "text/html": [
       "<div>\n",
       "<style scoped>\n",
       "    .dataframe tbody tr th:only-of-type {\n",
       "        vertical-align: middle;\n",
       "    }\n",
       "\n",
       "    .dataframe tbody tr th {\n",
       "        vertical-align: top;\n",
       "    }\n",
       "\n",
       "    .dataframe thead th {\n",
       "        text-align: right;\n",
       "    }\n",
       "</style>\n",
       "<table border=\"1\" class=\"dataframe\">\n",
       "  <thead>\n",
       "    <tr style=\"text-align: right;\">\n",
       "      <th></th>\n",
       "      <th>attributes</th>\n",
       "      <th>dtypes</th>\n",
       "      <th>nunique</th>\n",
       "      <th>sample</th>\n",
       "    </tr>\n",
       "  </thead>\n",
       "  <tbody>\n",
       "    <tr>\n",
       "      <th>0</th>\n",
       "      <td>id</td>\n",
       "      <td>int64</td>\n",
       "      <td>21436</td>\n",
       "      <td>[3885801450, 6792200282]</td>\n",
       "    </tr>\n",
       "    <tr>\n",
       "      <th>1</th>\n",
       "      <td>date</td>\n",
       "      <td>object</td>\n",
       "      <td>372</td>\n",
       "      <td>[20150402T000000, 20141028T000000]</td>\n",
       "    </tr>\n",
       "    <tr>\n",
       "      <th>2</th>\n",
       "      <td>buying_price</td>\n",
       "      <td>float64</td>\n",
       "      <td>4028</td>\n",
       "      <td>[541000.0, 726500.0]</td>\n",
       "    </tr>\n",
       "    <tr>\n",
       "      <th>3</th>\n",
       "      <td>bedrooms</td>\n",
       "      <td>int64</td>\n",
       "      <td>13</td>\n",
       "      <td>[8, 1]</td>\n",
       "    </tr>\n",
       "    <tr>\n",
       "      <th>4</th>\n",
       "      <td>bathrooms</td>\n",
       "      <td>float64</td>\n",
       "      <td>30</td>\n",
       "      <td>[4.75, 1.75]</td>\n",
       "    </tr>\n",
       "    <tr>\n",
       "      <th>5</th>\n",
       "      <td>sqft_living</td>\n",
       "      <td>int64</td>\n",
       "      <td>1038</td>\n",
       "      <td>[2195, 2473]</td>\n",
       "    </tr>\n",
       "    <tr>\n",
       "      <th>6</th>\n",
       "      <td>sqft_lot</td>\n",
       "      <td>int64</td>\n",
       "      <td>9782</td>\n",
       "      <td>[8814, 4810]</td>\n",
       "    </tr>\n",
       "    <tr>\n",
       "      <th>7</th>\n",
       "      <td>floors</td>\n",
       "      <td>float64</td>\n",
       "      <td>6</td>\n",
       "      <td>[3.0, 1.0]</td>\n",
       "    </tr>\n",
       "    <tr>\n",
       "      <th>8</th>\n",
       "      <td>waterfront</td>\n",
       "      <td>int64</td>\n",
       "      <td>2</td>\n",
       "      <td>[1, 0]</td>\n",
       "    </tr>\n",
       "    <tr>\n",
       "      <th>9</th>\n",
       "      <td>view</td>\n",
       "      <td>int64</td>\n",
       "      <td>5</td>\n",
       "      <td>[1, 2]</td>\n",
       "    </tr>\n",
       "    <tr>\n",
       "      <th>10</th>\n",
       "      <td>condition</td>\n",
       "      <td>int64</td>\n",
       "      <td>5</td>\n",
       "      <td>[2, 3]</td>\n",
       "    </tr>\n",
       "    <tr>\n",
       "      <th>11</th>\n",
       "      <td>grade</td>\n",
       "      <td>int64</td>\n",
       "      <td>12</td>\n",
       "      <td>[10, 8]</td>\n",
       "    </tr>\n",
       "    <tr>\n",
       "      <th>12</th>\n",
       "      <td>sqft_above</td>\n",
       "      <td>int64</td>\n",
       "      <td>946</td>\n",
       "      <td>[2665, 962]</td>\n",
       "    </tr>\n",
       "    <tr>\n",
       "      <th>13</th>\n",
       "      <td>sqft_basement</td>\n",
       "      <td>int64</td>\n",
       "      <td>306</td>\n",
       "      <td>[210, 1550]</td>\n",
       "    </tr>\n",
       "    <tr>\n",
       "      <th>14</th>\n",
       "      <td>yr_built</td>\n",
       "      <td>int64</td>\n",
       "      <td>116</td>\n",
       "      <td>[2002, 2012]</td>\n",
       "    </tr>\n",
       "    <tr>\n",
       "      <th>15</th>\n",
       "      <td>yr_renovated</td>\n",
       "      <td>int64</td>\n",
       "      <td>70</td>\n",
       "      <td>[2006, 1997]</td>\n",
       "    </tr>\n",
       "    <tr>\n",
       "      <th>16</th>\n",
       "      <td>zipcode</td>\n",
       "      <td>int64</td>\n",
       "      <td>70</td>\n",
       "      <td>[98059, 98058]</td>\n",
       "    </tr>\n",
       "    <tr>\n",
       "      <th>17</th>\n",
       "      <td>lat</td>\n",
       "      <td>float64</td>\n",
       "      <td>5034</td>\n",
       "      <td>[47.4939, 47.4495]</td>\n",
       "    </tr>\n",
       "    <tr>\n",
       "      <th>18</th>\n",
       "      <td>long</td>\n",
       "      <td>float64</td>\n",
       "      <td>752</td>\n",
       "      <td>[-122.085, -122.194]</td>\n",
       "    </tr>\n",
       "    <tr>\n",
       "      <th>19</th>\n",
       "      <td>sqft_living15</td>\n",
       "      <td>int64</td>\n",
       "      <td>777</td>\n",
       "      <td>[2004, 1070]</td>\n",
       "    </tr>\n",
       "    <tr>\n",
       "      <th>20</th>\n",
       "      <td>sqft_lot15</td>\n",
       "      <td>int64</td>\n",
       "      <td>8689</td>\n",
       "      <td>[4440, 12368]</td>\n",
       "    </tr>\n",
       "  </tbody>\n",
       "</table>\n",
       "</div>"
      ],
      "text/plain": [
       "       attributes   dtypes  nunique                              sample\n",
       "0              id    int64    21436            [3885801450, 6792200282]\n",
       "1            date   object      372  [20150402T000000, 20141028T000000]\n",
       "2    buying_price  float64     4028                [541000.0, 726500.0]\n",
       "3        bedrooms    int64       13                              [8, 1]\n",
       "4       bathrooms  float64       30                        [4.75, 1.75]\n",
       "5     sqft_living    int64     1038                        [2195, 2473]\n",
       "6        sqft_lot    int64     9782                        [8814, 4810]\n",
       "7          floors  float64        6                          [3.0, 1.0]\n",
       "8      waterfront    int64        2                              [1, 0]\n",
       "9            view    int64        5                              [1, 2]\n",
       "10      condition    int64        5                              [2, 3]\n",
       "11          grade    int64       12                             [10, 8]\n",
       "12     sqft_above    int64      946                         [2665, 962]\n",
       "13  sqft_basement    int64      306                         [210, 1550]\n",
       "14       yr_built    int64      116                        [2002, 2012]\n",
       "15   yr_renovated    int64       70                        [2006, 1997]\n",
       "16        zipcode    int64       70                      [98059, 98058]\n",
       "17            lat  float64     5034                  [47.4939, 47.4495]\n",
       "18           long  float64      752                [-122.085, -122.194]\n",
       "19  sqft_living15    int64      777                        [2004, 1070]\n",
       "20     sqft_lot15    int64     8689                       [4440, 12368]"
      ]
     },
     "execution_count": 8,
     "metadata": {},
     "output_type": "execute_result"
    }
   ],
   "source": [
    "description = []\n",
    "for i in df1.columns:\n",
    "    description.append([\n",
    "        i,\n",
    "        df1[i].dtypes,\n",
    "        df1[i].nunique(),\n",
    "        df1[i].drop_duplicates().sample(2).values\n",
    "    ])\n",
    "\n",
    "pd.DataFrame(data=description, columns=['attributes','dtypes', 'nunique','sample'])"
   ]
  },
  {
   "cell_type": "markdown",
   "id": "55ad4041",
   "metadata": {},
   "source": [
    "## 1.4 Check NA"
   ]
  },
  {
   "cell_type": "code",
   "execution_count": 9,
   "id": "d7d32f27",
   "metadata": {},
   "outputs": [
    {
     "data": {
      "text/html": [
       "<div>\n",
       "<style scoped>\n",
       "    .dataframe tbody tr th:only-of-type {\n",
       "        vertical-align: middle;\n",
       "    }\n",
       "\n",
       "    .dataframe tbody tr th {\n",
       "        vertical-align: top;\n",
       "    }\n",
       "\n",
       "    .dataframe thead th {\n",
       "        text-align: right;\n",
       "    }\n",
       "</style>\n",
       "<table border=\"1\" class=\"dataframe\">\n",
       "  <thead>\n",
       "    <tr style=\"text-align: right;\">\n",
       "      <th></th>\n",
       "      <th>attributes</th>\n",
       "      <th>null</th>\n",
       "      <th>%null</th>\n",
       "    </tr>\n",
       "  </thead>\n",
       "  <tbody>\n",
       "    <tr>\n",
       "      <th>0</th>\n",
       "      <td>id</td>\n",
       "      <td>0</td>\n",
       "      <td>0</td>\n",
       "    </tr>\n",
       "    <tr>\n",
       "      <th>1</th>\n",
       "      <td>date</td>\n",
       "      <td>0</td>\n",
       "      <td>0</td>\n",
       "    </tr>\n",
       "    <tr>\n",
       "      <th>2</th>\n",
       "      <td>buying_price</td>\n",
       "      <td>0</td>\n",
       "      <td>0</td>\n",
       "    </tr>\n",
       "    <tr>\n",
       "      <th>3</th>\n",
       "      <td>bedrooms</td>\n",
       "      <td>0</td>\n",
       "      <td>0</td>\n",
       "    </tr>\n",
       "    <tr>\n",
       "      <th>4</th>\n",
       "      <td>bathrooms</td>\n",
       "      <td>0</td>\n",
       "      <td>0</td>\n",
       "    </tr>\n",
       "    <tr>\n",
       "      <th>5</th>\n",
       "      <td>sqft_living</td>\n",
       "      <td>0</td>\n",
       "      <td>0</td>\n",
       "    </tr>\n",
       "    <tr>\n",
       "      <th>6</th>\n",
       "      <td>sqft_lot</td>\n",
       "      <td>0</td>\n",
       "      <td>0</td>\n",
       "    </tr>\n",
       "    <tr>\n",
       "      <th>7</th>\n",
       "      <td>floors</td>\n",
       "      <td>0</td>\n",
       "      <td>0</td>\n",
       "    </tr>\n",
       "    <tr>\n",
       "      <th>8</th>\n",
       "      <td>waterfront</td>\n",
       "      <td>0</td>\n",
       "      <td>0</td>\n",
       "    </tr>\n",
       "    <tr>\n",
       "      <th>9</th>\n",
       "      <td>view</td>\n",
       "      <td>0</td>\n",
       "      <td>0</td>\n",
       "    </tr>\n",
       "    <tr>\n",
       "      <th>10</th>\n",
       "      <td>condition</td>\n",
       "      <td>0</td>\n",
       "      <td>0</td>\n",
       "    </tr>\n",
       "    <tr>\n",
       "      <th>11</th>\n",
       "      <td>grade</td>\n",
       "      <td>0</td>\n",
       "      <td>0</td>\n",
       "    </tr>\n",
       "    <tr>\n",
       "      <th>12</th>\n",
       "      <td>sqft_above</td>\n",
       "      <td>0</td>\n",
       "      <td>0</td>\n",
       "    </tr>\n",
       "    <tr>\n",
       "      <th>13</th>\n",
       "      <td>sqft_basement</td>\n",
       "      <td>0</td>\n",
       "      <td>0</td>\n",
       "    </tr>\n",
       "    <tr>\n",
       "      <th>14</th>\n",
       "      <td>yr_built</td>\n",
       "      <td>0</td>\n",
       "      <td>0</td>\n",
       "    </tr>\n",
       "    <tr>\n",
       "      <th>15</th>\n",
       "      <td>yr_renovated</td>\n",
       "      <td>0</td>\n",
       "      <td>0</td>\n",
       "    </tr>\n",
       "    <tr>\n",
       "      <th>16</th>\n",
       "      <td>zipcode</td>\n",
       "      <td>0</td>\n",
       "      <td>0</td>\n",
       "    </tr>\n",
       "    <tr>\n",
       "      <th>17</th>\n",
       "      <td>lat</td>\n",
       "      <td>0</td>\n",
       "      <td>0</td>\n",
       "    </tr>\n",
       "    <tr>\n",
       "      <th>18</th>\n",
       "      <td>long</td>\n",
       "      <td>0</td>\n",
       "      <td>0</td>\n",
       "    </tr>\n",
       "    <tr>\n",
       "      <th>19</th>\n",
       "      <td>sqft_living15</td>\n",
       "      <td>0</td>\n",
       "      <td>0</td>\n",
       "    </tr>\n",
       "    <tr>\n",
       "      <th>20</th>\n",
       "      <td>sqft_lot15</td>\n",
       "      <td>0</td>\n",
       "      <td>0</td>\n",
       "    </tr>\n",
       "  </tbody>\n",
       "</table>\n",
       "</div>"
      ],
      "text/plain": [
       "       attributes  null  %null\n",
       "0              id     0      0\n",
       "1            date     0      0\n",
       "2    buying_price     0      0\n",
       "3        bedrooms     0      0\n",
       "4       bathrooms     0      0\n",
       "5     sqft_living     0      0\n",
       "6        sqft_lot     0      0\n",
       "7          floors     0      0\n",
       "8      waterfront     0      0\n",
       "9            view     0      0\n",
       "10      condition     0      0\n",
       "11          grade     0      0\n",
       "12     sqft_above     0      0\n",
       "13  sqft_basement     0      0\n",
       "14       yr_built     0      0\n",
       "15   yr_renovated     0      0\n",
       "16        zipcode     0      0\n",
       "17            lat     0      0\n",
       "18           long     0      0\n",
       "19  sqft_living15     0      0\n",
       "20     sqft_lot15     0      0"
      ]
     },
     "execution_count": 9,
     "metadata": {},
     "output_type": "execute_result"
    }
   ],
   "source": [
    "description = []\n",
    "for i in df1.columns:\n",
    "    description.append([\n",
    "        i,\n",
    "        df1[i].isna().sum(),\n",
    "        round((df1[i].isna().sum()/len(df1))*100)\n",
    "    ])\n",
    "\n",
    "pd.DataFrame(data=description, columns=['attributes','null', '%null'])"
   ]
  },
  {
   "cell_type": "markdown",
   "id": "5728a2c3",
   "metadata": {},
   "source": [
    "## 1.5 Fillout NA"
   ]
  },
  {
   "cell_type": "code",
   "execution_count": 10,
   "id": "aa3f09fb",
   "metadata": {},
   "outputs": [],
   "source": [
    "# nothing to fill"
   ]
  },
  {
   "cell_type": "markdown",
   "id": "b22787f1",
   "metadata": {},
   "source": [
    "## 1.6 Change Data Types"
   ]
  },
  {
   "cell_type": "code",
   "execution_count": 11,
   "id": "61a42c05",
   "metadata": {},
   "outputs": [
    {
     "data": {
      "text/html": [
       "<div>\n",
       "<style scoped>\n",
       "    .dataframe tbody tr th:only-of-type {\n",
       "        vertical-align: middle;\n",
       "    }\n",
       "\n",
       "    .dataframe tbody tr th {\n",
       "        vertical-align: top;\n",
       "    }\n",
       "\n",
       "    .dataframe thead th {\n",
       "        text-align: right;\n",
       "    }\n",
       "</style>\n",
       "<table border=\"1\" class=\"dataframe\">\n",
       "  <thead>\n",
       "    <tr style=\"text-align: right;\">\n",
       "      <th></th>\n",
       "      <th>date</th>\n",
       "    </tr>\n",
       "  </thead>\n",
       "  <tbody>\n",
       "    <tr>\n",
       "      <th>0</th>\n",
       "      <td>2014-10-13</td>\n",
       "    </tr>\n",
       "    <tr>\n",
       "      <th>1</th>\n",
       "      <td>2014-12-09</td>\n",
       "    </tr>\n",
       "    <tr>\n",
       "      <th>2</th>\n",
       "      <td>2015-02-25</td>\n",
       "    </tr>\n",
       "    <tr>\n",
       "      <th>3</th>\n",
       "      <td>2014-12-09</td>\n",
       "    </tr>\n",
       "    <tr>\n",
       "      <th>4</th>\n",
       "      <td>2015-02-18</td>\n",
       "    </tr>\n",
       "  </tbody>\n",
       "</table>\n",
       "</div>"
      ],
      "text/plain": [
       "        date\n",
       "0 2014-10-13\n",
       "1 2014-12-09\n",
       "2 2015-02-25\n",
       "3 2014-12-09\n",
       "4 2015-02-18"
      ]
     },
     "metadata": {},
     "output_type": "display_data"
    },
    {
     "data": {
      "text/plain": [
       "date    datetime64[ns]\n",
       "dtype: object"
      ]
     },
     "metadata": {},
     "output_type": "display_data"
    }
   ],
   "source": [
    "# changing 'date' type from OBJECT to DATE\n",
    "df1['date'] = pd.to_datetime(df1['date'])\n",
    "\n",
    "#checking 'date' type\n",
    "display(df1[['date']].head())\n",
    "display(df1[['date']].dtypes)"
   ]
  },
  {
   "cell_type": "markdown",
   "id": "2fe1d890",
   "metadata": {},
   "source": [
    "## 1.7 Check Duplicates"
   ]
  },
  {
   "cell_type": "code",
   "execution_count": 12,
   "id": "302d57bb",
   "metadata": {},
   "outputs": [
    {
     "name": "stdout",
     "output_type": "stream",
     "text": [
      "21613 number of rows\n",
      "21436 uniques ids\n",
      "177   duplicate ids\n"
     ]
    }
   ],
   "source": [
    "print(df1.shape[0], 'number of rows')\n",
    "print(df1['id'].unique().shape[0], 'uniques ids')\n",
    "print(df1.duplicated('id').sum(), '  duplicate ids')"
   ]
  },
  {
   "cell_type": "markdown",
   "id": "c34b0c98",
   "metadata": {},
   "source": [
    "## 1.8 Drop Duplicates"
   ]
  },
  {
   "cell_type": "code",
   "execution_count": 13,
   "id": "155d8acb",
   "metadata": {},
   "outputs": [
    {
     "name": "stdout",
     "output_type": "stream",
     "text": [
      "21436 number of rows\n",
      "21436 uniques ids\n",
      "0     duplicate ids\n"
     ]
    }
   ],
   "source": [
    "# sorting dataframe by date\n",
    "df1 = df1.sort_values('date', ascending=True)\n",
    "\n",
    "# deleting ids that appears first\n",
    "df1 = df1.drop_duplicates(subset='id', keep='last')\n",
    "\n",
    "print(df1.shape[0], 'number of rows')\n",
    "print(df1['id'].unique().shape[0], 'uniques ids')\n",
    "print(df1.duplicated('id').sum(), '    duplicate ids')"
   ]
  },
  {
   "cell_type": "markdown",
   "id": "6b4574ff",
   "metadata": {},
   "source": [
    "## 1.9 Descriptive Statistical"
   ]
  },
  {
   "cell_type": "code",
   "execution_count": 14,
   "id": "6cfd20e6",
   "metadata": {},
   "outputs": [],
   "source": [
    "qnt1_attributes = df1[['buying_price', 'bedrooms', 'bathrooms', 'sqft_living', 'sqft_lot', 'floors', 'sqft_above', 'sqft_basement', 'sqft_living15', 'sqft_lot15', 'lat', 'long']]\n",
    "cat1_attributes = df1[['yr_built', 'yr_renovated', 'waterfront', 'view', 'condition', 'grade','zipcode']]"
   ]
  },
  {
   "cell_type": "markdown",
   "id": "99d86c1d",
   "metadata": {},
   "source": [
    "### 1.9.1 Quantitative Attributes"
   ]
  },
  {
   "cell_type": "code",
   "execution_count": 15,
   "id": "36d2bb0e",
   "metadata": {},
   "outputs": [
    {
     "data": {
      "text/html": [
       "<div>\n",
       "<style scoped>\n",
       "    .dataframe tbody tr th:only-of-type {\n",
       "        vertical-align: middle;\n",
       "    }\n",
       "\n",
       "    .dataframe tbody tr th {\n",
       "        vertical-align: top;\n",
       "    }\n",
       "\n",
       "    .dataframe thead th {\n",
       "        text-align: right;\n",
       "    }\n",
       "</style>\n",
       "<table border=\"1\" class=\"dataframe\">\n",
       "  <thead>\n",
       "    <tr style=\"text-align: right;\">\n",
       "      <th></th>\n",
       "      <th>count</th>\n",
       "      <th>mean</th>\n",
       "      <th>std</th>\n",
       "      <th>min</th>\n",
       "      <th>25%</th>\n",
       "      <th>50%</th>\n",
       "      <th>75%</th>\n",
       "      <th>max</th>\n",
       "    </tr>\n",
       "  </thead>\n",
       "  <tbody>\n",
       "    <tr>\n",
       "      <th>buying_price</th>\n",
       "      <td>21436.00</td>\n",
       "      <td>541649.96</td>\n",
       "      <td>367314.93</td>\n",
       "      <td>75000.00</td>\n",
       "      <td>324866.00</td>\n",
       "      <td>450000.00</td>\n",
       "      <td>645000.00</td>\n",
       "      <td>7700000.00</td>\n",
       "    </tr>\n",
       "    <tr>\n",
       "      <th>bedrooms</th>\n",
       "      <td>21436.00</td>\n",
       "      <td>3.37</td>\n",
       "      <td>0.93</td>\n",
       "      <td>0.00</td>\n",
       "      <td>3.00</td>\n",
       "      <td>3.00</td>\n",
       "      <td>4.00</td>\n",
       "      <td>33.00</td>\n",
       "    </tr>\n",
       "    <tr>\n",
       "      <th>bathrooms</th>\n",
       "      <td>21436.00</td>\n",
       "      <td>2.12</td>\n",
       "      <td>0.77</td>\n",
       "      <td>0.00</td>\n",
       "      <td>1.75</td>\n",
       "      <td>2.25</td>\n",
       "      <td>2.50</td>\n",
       "      <td>8.00</td>\n",
       "    </tr>\n",
       "    <tr>\n",
       "      <th>sqft_living</th>\n",
       "      <td>21436.00</td>\n",
       "      <td>2082.70</td>\n",
       "      <td>919.15</td>\n",
       "      <td>290.00</td>\n",
       "      <td>1430.00</td>\n",
       "      <td>1920.00</td>\n",
       "      <td>2550.00</td>\n",
       "      <td>13540.00</td>\n",
       "    </tr>\n",
       "    <tr>\n",
       "      <th>sqft_lot</th>\n",
       "      <td>21436.00</td>\n",
       "      <td>15135.64</td>\n",
       "      <td>41538.62</td>\n",
       "      <td>520.00</td>\n",
       "      <td>5040.00</td>\n",
       "      <td>7614.00</td>\n",
       "      <td>10696.25</td>\n",
       "      <td>1651359.00</td>\n",
       "    </tr>\n",
       "    <tr>\n",
       "      <th>floors</th>\n",
       "      <td>21436.00</td>\n",
       "      <td>1.50</td>\n",
       "      <td>0.54</td>\n",
       "      <td>1.00</td>\n",
       "      <td>1.00</td>\n",
       "      <td>1.50</td>\n",
       "      <td>2.00</td>\n",
       "      <td>3.50</td>\n",
       "    </tr>\n",
       "    <tr>\n",
       "      <th>sqft_above</th>\n",
       "      <td>21436.00</td>\n",
       "      <td>1790.96</td>\n",
       "      <td>829.03</td>\n",
       "      <td>290.00</td>\n",
       "      <td>1200.00</td>\n",
       "      <td>1560.00</td>\n",
       "      <td>2220.00</td>\n",
       "      <td>9410.00</td>\n",
       "    </tr>\n",
       "    <tr>\n",
       "      <th>sqft_basement</th>\n",
       "      <td>21436.00</td>\n",
       "      <td>291.74</td>\n",
       "      <td>442.78</td>\n",
       "      <td>0.00</td>\n",
       "      <td>0.00</td>\n",
       "      <td>0.00</td>\n",
       "      <td>560.00</td>\n",
       "      <td>4820.00</td>\n",
       "    </tr>\n",
       "    <tr>\n",
       "      <th>sqft_living15</th>\n",
       "      <td>21436.00</td>\n",
       "      <td>1988.31</td>\n",
       "      <td>685.70</td>\n",
       "      <td>399.00</td>\n",
       "      <td>1490.00</td>\n",
       "      <td>1840.00</td>\n",
       "      <td>2370.00</td>\n",
       "      <td>6210.00</td>\n",
       "    </tr>\n",
       "    <tr>\n",
       "      <th>sqft_lot15</th>\n",
       "      <td>21436.00</td>\n",
       "      <td>12785.96</td>\n",
       "      <td>27375.47</td>\n",
       "      <td>651.00</td>\n",
       "      <td>5100.00</td>\n",
       "      <td>7620.00</td>\n",
       "      <td>10087.25</td>\n",
       "      <td>871200.00</td>\n",
       "    </tr>\n",
       "    <tr>\n",
       "      <th>lat</th>\n",
       "      <td>21436.00</td>\n",
       "      <td>47.56</td>\n",
       "      <td>0.14</td>\n",
       "      <td>47.16</td>\n",
       "      <td>47.47</td>\n",
       "      <td>47.57</td>\n",
       "      <td>47.68</td>\n",
       "      <td>47.78</td>\n",
       "    </tr>\n",
       "    <tr>\n",
       "      <th>long</th>\n",
       "      <td>21436.00</td>\n",
       "      <td>-122.21</td>\n",
       "      <td>0.14</td>\n",
       "      <td>-122.52</td>\n",
       "      <td>-122.33</td>\n",
       "      <td>-122.23</td>\n",
       "      <td>-122.12</td>\n",
       "      <td>-121.31</td>\n",
       "    </tr>\n",
       "  </tbody>\n",
       "</table>\n",
       "</div>"
      ],
      "text/plain": [
       "                 count      mean       std      min       25%       50%  \\\n",
       "buying_price  21436.00 541649.96 367314.93 75000.00 324866.00 450000.00   \n",
       "bedrooms      21436.00      3.37      0.93     0.00      3.00      3.00   \n",
       "bathrooms     21436.00      2.12      0.77     0.00      1.75      2.25   \n",
       "sqft_living   21436.00   2082.70    919.15   290.00   1430.00   1920.00   \n",
       "sqft_lot      21436.00  15135.64  41538.62   520.00   5040.00   7614.00   \n",
       "floors        21436.00      1.50      0.54     1.00      1.00      1.50   \n",
       "sqft_above    21436.00   1790.96    829.03   290.00   1200.00   1560.00   \n",
       "sqft_basement 21436.00    291.74    442.78     0.00      0.00      0.00   \n",
       "sqft_living15 21436.00   1988.31    685.70   399.00   1490.00   1840.00   \n",
       "sqft_lot15    21436.00  12785.96  27375.47   651.00   5100.00   7620.00   \n",
       "lat           21436.00     47.56      0.14    47.16     47.47     47.57   \n",
       "long          21436.00   -122.21      0.14  -122.52   -122.33   -122.23   \n",
       "\n",
       "                    75%        max  \n",
       "buying_price  645000.00 7700000.00  \n",
       "bedrooms           4.00      33.00  \n",
       "bathrooms          2.50       8.00  \n",
       "sqft_living     2550.00   13540.00  \n",
       "sqft_lot       10696.25 1651359.00  \n",
       "floors             2.00       3.50  \n",
       "sqft_above      2220.00    9410.00  \n",
       "sqft_basement    560.00    4820.00  \n",
       "sqft_living15   2370.00    6210.00  \n",
       "sqft_lot15     10087.25  871200.00  \n",
       "lat               47.68      47.78  \n",
       "long            -122.12    -121.31  "
      ]
     },
     "execution_count": 15,
     "metadata": {},
     "output_type": "execute_result"
    }
   ],
   "source": [
    "# count, mean, std, min, quartile 1 (25%), quartile 2(50%), quartile 3 (75%) and max\n",
    "qnt1_attributes.describe().T"
   ]
  },
  {
   "cell_type": "markdown",
   "id": "3841b316",
   "metadata": {},
   "source": [
    "### 1.9.2 Categorical Attributes"
   ]
  },
  {
   "cell_type": "markdown",
   "id": "75d74f2c",
   "metadata": {},
   "source": [
    "The qualitative attributes yr_built, yr_renovated, view, condition, grade and zipcode are ordinal, i.e. they express some sort of ordering."
   ]
  },
  {
   "cell_type": "code",
   "execution_count": 16,
   "id": "07f056ec",
   "metadata": {},
   "outputs": [
    {
     "data": {
      "text/html": [
       "<div>\n",
       "<style scoped>\n",
       "    .dataframe tbody tr th:only-of-type {\n",
       "        vertical-align: middle;\n",
       "    }\n",
       "\n",
       "    .dataframe tbody tr th {\n",
       "        vertical-align: top;\n",
       "    }\n",
       "\n",
       "    .dataframe thead th {\n",
       "        text-align: right;\n",
       "    }\n",
       "</style>\n",
       "<table border=\"1\" class=\"dataframe\">\n",
       "  <thead>\n",
       "    <tr style=\"text-align: right;\">\n",
       "      <th></th>\n",
       "      <th>min</th>\n",
       "      <th>max</th>\n",
       "      <th>unique</th>\n",
       "      <th>mode</th>\n",
       "      <th>mode freq</th>\n",
       "    </tr>\n",
       "  </thead>\n",
       "  <tbody>\n",
       "    <tr>\n",
       "      <th>yr_built</th>\n",
       "      <td>1900</td>\n",
       "      <td>2015</td>\n",
       "      <td>116</td>\n",
       "      <td>2014</td>\n",
       "      <td>559</td>\n",
       "    </tr>\n",
       "    <tr>\n",
       "      <th>yr_renovated</th>\n",
       "      <td>0</td>\n",
       "      <td>2015</td>\n",
       "      <td>70</td>\n",
       "      <td>0</td>\n",
       "      <td>20526</td>\n",
       "    </tr>\n",
       "    <tr>\n",
       "      <th>waterfront</th>\n",
       "      <td>0</td>\n",
       "      <td>1</td>\n",
       "      <td>2</td>\n",
       "      <td>0</td>\n",
       "      <td>21273</td>\n",
       "    </tr>\n",
       "    <tr>\n",
       "      <th>view</th>\n",
       "      <td>0</td>\n",
       "      <td>4</td>\n",
       "      <td>5</td>\n",
       "      <td>0</td>\n",
       "      <td>19320</td>\n",
       "    </tr>\n",
       "    <tr>\n",
       "      <th>condition</th>\n",
       "      <td>1</td>\n",
       "      <td>5</td>\n",
       "      <td>5</td>\n",
       "      <td>3</td>\n",
       "      <td>13911</td>\n",
       "    </tr>\n",
       "    <tr>\n",
       "      <th>grade</th>\n",
       "      <td>1</td>\n",
       "      <td>13</td>\n",
       "      <td>12</td>\n",
       "      <td>7</td>\n",
       "      <td>8896</td>\n",
       "    </tr>\n",
       "    <tr>\n",
       "      <th>zipcode</th>\n",
       "      <td>98001</td>\n",
       "      <td>98199</td>\n",
       "      <td>70</td>\n",
       "      <td>98103</td>\n",
       "      <td>600</td>\n",
       "    </tr>\n",
       "  </tbody>\n",
       "</table>\n",
       "</div>"
      ],
      "text/plain": [
       "                min    max unique   mode mode freq\n",
       "yr_built       1900   2015    116   2014       559\n",
       "yr_renovated      0   2015     70      0     20526\n",
       "waterfront        0      1      2      0     21273\n",
       "view              0      4      5      0     19320\n",
       "condition         1      5      5      3     13911\n",
       "grade             1     13     12      7      8896\n",
       "zipcode       98001  98199     70  98103       600"
      ]
     },
     "execution_count": 16,
     "metadata": {},
     "output_type": "execute_result"
    }
   ],
   "source": [
    "# min, max, uniques, mode and mode frequency\n",
    "min_value = pd.DataFrame(cat1_attributes.apply(np.min)).rename(columns = {0: 'min'}).astype(str)\n",
    "max_value = pd.DataFrame(cat1_attributes.apply(np.max)).rename(columns = {0: 'max'}).astype(str)\n",
    "\n",
    "cat1_summary = cat1_attributes.astype('category').describe().T.drop(columns = 'count').rename(columns = {'top': 'mode', 'freq': 'mode freq'}).astype(str)\n",
    "cat1_summary = pd.concat([min_value, max_value, cat1_summary], axis=1)\n",
    "cat1_summary"
   ]
  },
  {
   "cell_type": "markdown",
   "id": "47ea14c7",
   "metadata": {},
   "source": [
    "# 2.0 Data Filtering"
   ]
  },
  {
   "cell_type": "code",
   "execution_count": 17,
   "id": "69c2cdbc",
   "metadata": {},
   "outputs": [],
   "source": [
    "df2 = df1.copy()"
   ]
  },
  {
   "cell_type": "markdown",
   "id": "0c02f816",
   "metadata": {},
   "source": [
    "### 2.1 Check for filtering"
   ]
  },
  {
   "cell_type": "markdown",
   "id": "89317e6f",
   "metadata": {},
   "source": [
    "Check bedrooms and bathrooms."
   ]
  },
  {
   "cell_type": "code",
   "execution_count": 18,
   "id": "a5d4552c",
   "metadata": {},
   "outputs": [
    {
     "data": {
      "text/html": [
       "<div>\n",
       "<style scoped>\n",
       "    .dataframe tbody tr th:only-of-type {\n",
       "        vertical-align: middle;\n",
       "    }\n",
       "\n",
       "    .dataframe tbody tr th {\n",
       "        vertical-align: top;\n",
       "    }\n",
       "\n",
       "    .dataframe thead th {\n",
       "        text-align: right;\n",
       "    }\n",
       "</style>\n",
       "<table border=\"1\" class=\"dataframe\">\n",
       "  <thead>\n",
       "    <tr style=\"text-align: right;\">\n",
       "      <th></th>\n",
       "      <th>bedrooms</th>\n",
       "      <th>bathrooms</th>\n",
       "    </tr>\n",
       "  </thead>\n",
       "  <tbody>\n",
       "    <tr>\n",
       "      <th>count</th>\n",
       "      <td>21436.00</td>\n",
       "      <td>21436.00</td>\n",
       "    </tr>\n",
       "    <tr>\n",
       "      <th>mean</th>\n",
       "      <td>3.37</td>\n",
       "      <td>2.12</td>\n",
       "    </tr>\n",
       "    <tr>\n",
       "      <th>std</th>\n",
       "      <td>0.93</td>\n",
       "      <td>0.77</td>\n",
       "    </tr>\n",
       "    <tr>\n",
       "      <th>min</th>\n",
       "      <td>0.00</td>\n",
       "      <td>0.00</td>\n",
       "    </tr>\n",
       "    <tr>\n",
       "      <th>25%</th>\n",
       "      <td>3.00</td>\n",
       "      <td>1.75</td>\n",
       "    </tr>\n",
       "    <tr>\n",
       "      <th>50%</th>\n",
       "      <td>3.00</td>\n",
       "      <td>2.25</td>\n",
       "    </tr>\n",
       "    <tr>\n",
       "      <th>75%</th>\n",
       "      <td>4.00</td>\n",
       "      <td>2.50</td>\n",
       "    </tr>\n",
       "    <tr>\n",
       "      <th>max</th>\n",
       "      <td>33.00</td>\n",
       "      <td>8.00</td>\n",
       "    </tr>\n",
       "  </tbody>\n",
       "</table>\n",
       "</div>"
      ],
      "text/plain": [
       "       bedrooms  bathrooms\n",
       "count  21436.00   21436.00\n",
       "mean       3.37       2.12\n",
       "std        0.93       0.77\n",
       "min        0.00       0.00\n",
       "25%        3.00       1.75\n",
       "50%        3.00       2.25\n",
       "75%        4.00       2.50\n",
       "max       33.00       8.00"
      ]
     },
     "metadata": {},
     "output_type": "display_data"
    }
   ],
   "source": [
    "display(df2[['bedrooms', 'bathrooms']].describe())"
   ]
  },
  {
   "cell_type": "code",
   "execution_count": 19,
   "id": "6a70db91",
   "metadata": {},
   "outputs": [
    {
     "data": {
      "image/png": "[encoded data removed]",
      "text/plain": [
       "<Figure size 1584x432 with 2 Axes>"
      ]
     },
     "metadata": {},
     "output_type": "display_data"
    }
   ],
   "source": [
    "plt.figure(figsize=(22, 6))\n",
    "\n",
    "plt.subplot(1,2,1)\n",
    "sns.boxplot(x = 'bedrooms',  data=df2)\n",
    "\n",
    "plt.subplot(1,2,2)\n",
    "sns.boxplot(x = 'bedrooms', y='sqft_living', data=df2);"
   ]
  },
  {
   "cell_type": "markdown",
   "id": "6442cf75",
   "metadata": {},
   "source": [
    "There is just one property with a bedroom equal to 33. The property has a small area to have 33 bedrooms.   \n",
    "There is only one property with 11 bedrooms. The property has an area of 3000 square feet. Although it is unusual, it is possible for a property of this size to have 11 bedrooms."
   ]
  },
  {
   "cell_type": "code",
   "execution_count": 20,
   "id": "47b8c518",
   "metadata": {},
   "outputs": [
    {
     "data": {
      "image/png": "[encoded data removed]",
      "text/plain": [
       "<Figure size 1296x432 with 2 Axes>"
      ]
     },
     "metadata": {},
     "output_type": "display_data"
    }
   ],
   "source": [
    "# specify plot layouts with different width using subplots()\n",
    "fig, axs = plt.subplots(1,2, figsize=(18, 6), gridspec_kw=dict(width_ratios=[1,3]))\n",
    "\n",
    "sns.boxplot(x = 'bathrooms',  data=df2, ax=axs[0])\n",
    "sns.boxplot(x = 'bedrooms', y='bathrooms', data=df2, ax=axs[1])\n",
    "\n",
    "fig.tight_layout()\n",
    "plt.show()"
   ]
  },
  {
   "cell_type": "markdown",
   "id": "9b83f573",
   "metadata": {},
   "source": [
    "For bathrooms, 0.5 is a room with a toilet but no shower, 0.75 is a bathroom that has either a shower or tub with sink and toilet, and 1 a bathroom that has shower and tub with sink and toilet (https://www.badeloftusa.com/buying-guides/bathrooms).       \n",
    "Properties with bathrooms less than 0.75 were considered commercial properties. The house rocket company only works with residential properties.    \n",
    "There are some properties with zero bedrooms, but bathrooms more than 0.75. These properties were considered residential properties studio-type."
   ]
  },
  {
   "cell_type": "markdown",
   "id": "74a13398",
   "metadata": {},
   "source": [
    "### 2.2 Data Filtering"
   ]
  },
  {
   "cell_type": "code",
   "execution_count": 21,
   "id": "080db49a",
   "metadata": {},
   "outputs": [
    {
     "name": "stdout",
     "output_type": "stream",
     "text": [
      "Min. number of bathrooms: 0.75\n",
      "Max. number of bedrooms : 11\n"
     ]
    }
   ],
   "source": [
    "df2 = df2[(df2['bathrooms'] >= 0.75) & (df2['bedrooms'] != 33)]\n",
    "\n",
    "# checking the filtering\n",
    "print(f\"Min. number of bathrooms: {df2['bathrooms'].min()}\")\n",
    "print(f\"Max. number of bedrooms : {df2['bedrooms'].max()}\")"
   ]
  },
  {
   "cell_type": "markdown",
   "id": "b966cac5",
   "metadata": {},
   "source": [
    "# 3.0 Feature engineering"
   ]
  },
  {
   "cell_type": "code",
   "execution_count": 22,
   "id": "fd03af68",
   "metadata": {},
   "outputs": [],
   "source": [
    "df3 = df2.copy()"
   ]
  },
  {
   "cell_type": "markdown",
   "id": "969c4672",
   "metadata": {},
   "source": [
    "## 3.1 Mind Map"
   ]
  },
  {
   "cell_type": "code",
   "execution_count": null,
   "id": "e96d8ebb",
   "metadata": {},
   "outputs": [],
   "source": []
  },
  {
   "cell_type": "markdown",
   "id": "890fff4e",
   "metadata": {},
   "source": [
    "## 3.2 Hypotesis List"
   ]
  },
  {
   "cell_type": "code",
   "execution_count": null,
   "id": "9622ad83",
   "metadata": {},
   "outputs": [],
   "source": []
  },
  {
   "cell_type": "markdown",
   "id": "a3f673a0",
   "metadata": {},
   "source": [
    "## 3.3 Features Creation"
   ]
  },
  {
   "cell_type": "code",
   "execution_count": null,
   "id": "dfd7fee1",
   "metadata": {},
   "outputs": [],
   "source": []
  },
  {
   "cell_type": "markdown",
   "id": "6d7eb1fc",
   "metadata": {},
   "source": [
    "# 4.0 Exploratory Data Analysis"
   ]
  },
  {
   "cell_type": "code",
   "execution_count": null,
   "id": "b33fdad4",
   "metadata": {},
   "outputs": [],
   "source": []
  },
  {
   "cell_type": "markdown",
   "id": "63f4e9a6",
   "metadata": {},
   "source": [
    "## 4.1 Univariate Analysis"
   ]
  },
  {
   "cell_type": "code",
   "execution_count": null,
   "id": "9683cb5a",
   "metadata": {},
   "outputs": [],
   "source": []
  },
  {
   "cell_type": "markdown",
   "id": "561c29f8",
   "metadata": {},
   "source": [
    "## 4.2 Bivariate Analysis"
   ]
  },
  {
   "cell_type": "code",
   "execution_count": null,
   "id": "c9288e91",
   "metadata": {},
   "outputs": [],
   "source": []
  },
  {
   "cell_type": "markdown",
   "id": "dc8eb8b1",
   "metadata": {},
   "source": [
    "## 4.3 Multivatiate Analysis"
   ]
  },
  {
   "cell_type": "code",
   "execution_count": null,
   "id": "b5093124",
   "metadata": {},
   "outputs": [],
   "source": []
  },
  {
   "cell_type": "markdown",
   "id": "bf2991db",
   "metadata": {},
   "source": [
    "# 5.0 Conclusion and Visualization"
   ]
  },
  {
   "cell_type": "code",
   "execution_count": null,
   "id": "4b8fa059",
   "metadata": {},
   "outputs": [],
   "source": []
  }
 ],
 "metadata": {
  "kernelspec": {
   "display_name": "Python 3 (ipykernel)",
   "language": "python",
   "name": "python3"
  },
  "language_info": {
   "codemirror_mode": {
    "name": "ipython",
    "version": 3
   },
   "file_extension": ".py",
   "mimetype": "text/x-python",
   "name": "python",
   "nbconvert_exporter": "python",
   "pygments_lexer": "ipython3",
   "version": "3.9.12"
  }
 },
 "nbformat": 4,
 "nbformat_minor": 5
}
