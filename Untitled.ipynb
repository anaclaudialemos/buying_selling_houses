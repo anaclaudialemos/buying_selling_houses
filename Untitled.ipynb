{
 "cells": [
  {
   "cell_type": "code",
   "execution_count": 1,
   "id": "bda761ac",
   "metadata": {},
   "outputs": [],
   "source": [
    "import numpy              as np\n",
    "import pandas             as pd\n",
    "import seaborn            as sns\n",
    "import plotly.express     as px\n",
    "import matplotlib.pyplot  as plt\n",
    "import ipywidgets         as widgets\n",
    "\n",
    "import folium\n",
    "import geopandas\n",
    "\n",
    "from datetime             import datetime\n",
    "from streamlit_folium     import folium_static\n",
    "from folium.plugins       import MarkerCluster\n",
    "from IPython.core.display import HTML\n",
    "from IPython.display      import Image\n",
    "from ipywidgets           import fixed"
   ]
  },
  {
   "cell_type": "code",
   "execution_count": 3,
   "id": "70973edf",
   "metadata": {},
   "outputs": [],
   "source": [
    "df = pd.read_csv('datasets/df_tobuy.csv')"
   ]
  },
  {
   "cell_type": "code",
   "execution_count": null,
   "id": "cab1adba",
   "metadata": {},
   "outputs": [],
   "source": []
  },
  {
   "cell_type": "code",
   "execution_count": 4,
   "id": "e23b01d6",
   "metadata": {},
   "outputs": [
    {
     "data": {
      "text/plain": [
       "<bound method NDFrame.describe of               id        date  buying_price  bedrooms  bathrooms  sqft_living  \\\n",
       "0     5561000190  2014-05-02      437500.0         3       2.25         1970   \n",
       "1     1523069197  2014-05-03      379880.0         3       2.50         1650   \n",
       "2     1823069155  2014-05-05      525888.0         5       1.75         2550   \n",
       "3     5561301280  2014-05-05      410000.0         3       2.25         1800   \n",
       "4     8648900060  2014-05-05      509900.0         3       2.50         1790   \n",
       "...          ...         ...           ...       ...        ...          ...   \n",
       "8125  3262300818  2015-02-27     1865000.0         4       3.75         3790   \n",
       "8126  3738000070  2015-03-09     1712750.0         5       2.50         2660   \n",
       "8127  2210500019  2015-03-24      937500.0         3       1.00         1320   \n",
       "8128  2525049133  2015-04-02     1398000.0         5       2.25         2640   \n",
       "8129  3025300250  2015-05-13     1620000.0         4       2.25         2350   \n",
       "\n",
       "      sqft_lot  floors  waterfront  view  ...          price_bins  season  \\\n",
       "0        35100     2.0           0     0  ...        under_median  spring   \n",
       "1        14054     1.0           0     0  ...        under_median  spring   \n",
       "2        71874     1.0           0     0  ...  from_median_upward  spring   \n",
       "3        36704     1.0           0     0  ...        under_median  spring   \n",
       "4         2700     2.0           0     0  ...  from_median_upward  spring   \n",
       "...        ...     ...         ...   ...  ...                 ...     ...   \n",
       "8125      8797     2.0           0     0  ...  from_median_upward  winter   \n",
       "8126      6572     1.0           0     0  ...  from_median_upward  winter   \n",
       "8127      8500     1.0           0     0  ...  from_median_upward  spring   \n",
       "8128     14959     1.0           0     0  ...  from_median_upward  spring   \n",
       "8129     17709     2.0           0     0  ...  from_median_upward  spring   \n",
       "\n",
       "      price_sqft  newer  basement  renovated  median_price_zipcode  \\\n",
       "0            222      1         0          0              571000.0   \n",
       "1            230      1         1          0              571000.0   \n",
       "2            206      0         1          0              571000.0   \n",
       "3            227      1         1          0              571000.0   \n",
       "4            284      1         0          0              571000.0   \n",
       "...          ...    ...       ...        ...                   ...   \n",
       "8125         492      1         1          0             1905000.0   \n",
       "8126         643      0         1          0             1905000.0   \n",
       "8127         710      0         0          0             1905000.0   \n",
       "8128         529      0         1          0             1905000.0   \n",
       "8129         689      1         0          0             1905000.0   \n",
       "\n",
       "      maximal_expend  suggested_selling_price  expected_profit  \n",
       "0           26250.00                 568750.0        105000.00  \n",
       "1           22792.80                 493844.0         91171.20  \n",
       "2           31553.28                 683654.4        126213.12  \n",
       "3           24600.00                 533000.0         98400.00  \n",
       "4           40792.00                 662870.0        112178.00  \n",
       "...              ...                      ...              ...  \n",
       "8125       149200.00                2331250.0        317050.00  \n",
       "8126       102765.00                2226575.0        411060.00  \n",
       "8127        56250.00                1218750.0        225000.00  \n",
       "8128        83880.00                1817400.0        335520.00  \n",
       "8129        97200.00                2106000.0        388800.00  \n",
       "\n",
       "[8130 rows x 31 columns]>"
      ]
     },
     "execution_count": 4,
     "metadata": {},
     "output_type": "execute_result"
    }
   ],
   "source": [
    "df.describe"
   ]
  },
  {
   "cell_type": "code",
   "execution_count": 5,
   "id": "e9b93ae6",
   "metadata": {},
   "outputs": [],
   "source": [
    "df = pd.read_csv('datasets/kc_house_data_processed.csv')"
   ]
  },
  {
   "cell_type": "code",
   "execution_count": 7,
   "id": "bd7593df",
   "metadata": {},
   "outputs": [
    {
     "data": {
      "text/plain": [
       "<bound method NDFrame.describe of                id        date  buying_price  bedrooms  bathrooms  sqft_living  \\\n",
       "0      5561000190  2014-05-02      437500.0         3       2.25         1970   \n",
       "1       472000620  2014-05-02      790000.0         3       2.50         2600   \n",
       "2      1024069009  2014-05-02      675000.0         5       2.50         2820   \n",
       "3      7853361370  2014-05-02      555000.0         4       2.50         3310   \n",
       "4      5056500260  2014-05-02      440000.0         4       2.25         2160   \n",
       "...           ...         ...           ...       ...        ...          ...   \n",
       "21416  1422700040  2015-05-14      183000.0         3       1.00         1170   \n",
       "21417  8730000270  2015-05-14      359000.0         2       2.75         1370   \n",
       "21418  7923600250  2015-05-15      450000.0         5       2.00         1870   \n",
       "21419  5101400871  2015-05-24      445500.0         2       1.75         1390   \n",
       "21420  9106000005  2015-05-27     1310000.0         4       2.25         3750   \n",
       "\n",
       "       sqft_lot  floors  waterfront  view  ...  zipcode      lat     long  \\\n",
       "0         35100     2.0           0     0  ...    98027  47.4635 -121.991   \n",
       "1          4750     1.0           0     0  ...    98117  47.6833 -122.400   \n",
       "2         67518     2.0           0     0  ...    98029  47.5794 -122.025   \n",
       "3          6500     2.0           0     0  ...    98065  47.5150 -121.870   \n",
       "4          8119     1.0           0     0  ...    98006  47.5443 -122.177   \n",
       "...         ...     ...         ...   ...  ...      ...      ...      ...   \n",
       "21416      7320     1.0           0     0  ...    98188  47.4685 -122.282   \n",
       "21417      1140     2.0           0     0  ...    98133  47.7052 -122.343   \n",
       "21418      7344     1.5           0     0  ...    98007  47.5951 -122.144   \n",
       "21419      6670     1.0           0     0  ...    98115  47.6914 -122.308   \n",
       "21420      5000     2.0           0     0  ...    98115  47.6747 -122.303   \n",
       "\n",
       "       sqft_living15  sqft_lot15  season  price_sqft  newer  basement  \\\n",
       "0               2340       35100  spring         222      1         0   \n",
       "1               2380        4750  spring         303      0         1   \n",
       "2               2820       48351  spring         239      1         0   \n",
       "3               2380        5000  spring         167      1         0   \n",
       "4               1850        9000  spring         203      1         1   \n",
       "...              ...         ...     ...         ...    ...       ...   \n",
       "21416           2040        7320  spring         156      0         0   \n",
       "21417           1370        1090  spring         262      1         1   \n",
       "21418           1870        7650  spring         240      0         0   \n",
       "21419            920        6380  spring         320      0         1   \n",
       "21420           2170        4590  spring         349      0         1   \n",
       "\n",
       "       renovated  \n",
       "0              0  \n",
       "1              0  \n",
       "2              0  \n",
       "3              0  \n",
       "4              0  \n",
       "...          ...  \n",
       "21416          0  \n",
       "21417          0  \n",
       "21418          0  \n",
       "21419          0  \n",
       "21420          0  \n",
       "\n",
       "[21421 rows x 26 columns]>"
      ]
     },
     "execution_count": 7,
     "metadata": {},
     "output_type": "execute_result"
    }
   ],
   "source": [
    "df.describe"
   ]
  }
 ],
 "metadata": {
  "kernelspec": {
   "display_name": "Python 3 (ipykernel)",
   "language": "python",
   "name": "python3"
  },
  "language_info": {
   "codemirror_mode": {
    "name": "ipython",
    "version": 3
   },
   "file_extension": ".py",
   "mimetype": "text/x-python",
   "name": "python",
   "nbconvert_exporter": "python",
   "pygments_lexer": "ipython3",
   "version": "3.9.12"
  }
 },
 "nbformat": 4,
 "nbformat_minor": 5
}
